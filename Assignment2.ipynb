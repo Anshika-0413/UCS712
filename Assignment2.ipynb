{
  "nbformat": 4,
  "nbformat_minor": 0,
  "metadata": {
    "colab": {
      "provenance": []
    },
    "kernelspec": {
      "name": "python3",
      "display_name": "Python 3"
    },
    "language_info": {
      "name": "python"
    }
  },
  "cells": [
    {
      "cell_type": "code",
      "execution_count": null,
      "metadata": {
        "colab": {
          "base_uri": "https://localhost:8080/"
        },
        "id": "ac4h4CAkgwDy",
        "outputId": "e658d114-061f-4742-ae0b-547ef8227d88"
      },
      "outputs": [
        {
          "output_type": "stream",
          "name": "stdout",
          "text": [
            "[10, 20, 30, 40, 50, 60, 70, 80, 200, 300]\n"
          ]
        }
      ],
      "source": [
        "#1.i)\n",
        "L=[10,20,30,40,50,60,70,80]\n",
        "L.append(200)\n",
        "L.append(300)\n",
        "print(L)"
      ]
    },
    {
      "cell_type": "code",
      "source": [
        "#1.ii)\n",
        "L.remove(10)\n",
        "L.remove(30)\n",
        "print(L)"
      ],
      "metadata": {
        "colab": {
          "base_uri": "https://localhost:8080/"
        },
        "id": "_x-KSI86jHYZ",
        "outputId": "28c72bc2-250f-4395-aceb-809470e458f2"
      },
      "execution_count": null,
      "outputs": [
        {
          "output_type": "stream",
          "name": "stdout",
          "text": [
            "[20, 40, 50, 60, 70, 80, 200, 300]\n"
          ]
        }
      ]
    },
    {
      "cell_type": "code",
      "source": [
        "#1.iii)\n",
        "L.sort()\n",
        "print(L)"
      ],
      "metadata": {
        "colab": {
          "base_uri": "https://localhost:8080/"
        },
        "id": "PHQFzbVGjUAN",
        "outputId": "6d288864-632b-43b0-cf5f-0e6e182d1b34"
      },
      "execution_count": null,
      "outputs": [
        {
          "output_type": "stream",
          "name": "stdout",
          "text": [
            "[20, 40, 50, 60, 70, 80, 200, 300]\n"
          ]
        }
      ]
    },
    {
      "cell_type": "code",
      "source": [
        "#1.iv)\n",
        "L.reverse()\n",
        "print(L)"
      ],
      "metadata": {
        "colab": {
          "base_uri": "https://localhost:8080/"
        },
        "id": "uyvg8yigjoR6",
        "outputId": "b018ef0f-5158-4bd1-9845-2f1f7194f75e"
      },
      "execution_count": null,
      "outputs": [
        {
          "output_type": "stream",
          "name": "stdout",
          "text": [
            "[300, 200, 80, 70, 60, 50, 40, 20]\n"
          ]
        }
      ]
    },
    {
      "cell_type": "code",
      "source": [
        "#2.i)\n",
        "scores=(45,89.5,76,45.4,89,92,58,45)\n",
        "a=max(scores)\n",
        "b=scores.index(a)\n",
        "print(b)"
      ],
      "metadata": {
        "colab": {
          "base_uri": "https://localhost:8080/"
        },
        "id": "4woG0NCPjwl8",
        "outputId": "bae29920-6404-4cd6-ded1-4e62651ad055"
      },
      "execution_count": null,
      "outputs": [
        {
          "output_type": "stream",
          "name": "stdout",
          "text": [
            "5\n"
          ]
        }
      ]
    },
    {
      "cell_type": "code",
      "source": [
        "#2.ii)\n",
        "a=min(scores)\n",
        "b=scores.count(a)\n",
        "print(b)"
      ],
      "metadata": {
        "colab": {
          "base_uri": "https://localhost:8080/"
        },
        "id": "1ZyaEm65kiA2",
        "outputId": "800758f2-b06c-4e8f-9da9-7cd7680c1acb"
      },
      "execution_count": null,
      "outputs": [
        {
          "output_type": "stream",
          "name": "stdout",
          "text": [
            "2\n"
          ]
        }
      ]
    },
    {
      "cell_type": "code",
      "source": [
        "#2.iii)\n",
        "lista=list(scores)\n",
        "lista.reverse()\n",
        "scores=tuple(lista)\n",
        "print(lista)"
      ],
      "metadata": {
        "colab": {
          "base_uri": "https://localhost:8080/"
        },
        "id": "7DbQZUZUkttX",
        "outputId": "3fc34a5a-8a4a-4fed-9966-1ac59aa76d01"
      },
      "execution_count": null,
      "outputs": [
        {
          "output_type": "stream",
          "name": "stdout",
          "text": [
            "[45, 58, 92, 89, 45.4, 76, 89.5, 45]\n"
          ]
        }
      ]
    },
    {
      "cell_type": "code",
      "source": [
        "#2.iv)\n",
        "scores=(45,89.5,76,45.4,89,92,58,45)\n",
        "t=1\n",
        "num=int(input(\"enter the number\"))\n",
        "for i in range(0,8):\n",
        "  if(scores[i]==num):\n",
        "    t=0\n",
        "    print(scores.index(num))\n",
        "    break\n",
        "if(t==1):\n",
        "  print(\"not present\")\n"
      ],
      "metadata": {
        "colab": {
          "base_uri": "https://localhost:8080/"
        },
        "id": "zahVJTu2lwa1",
        "outputId": "0f96b559-91e2-4517-c26d-d2ae984cb198"
      },
      "execution_count": null,
      "outputs": [
        {
          "output_type": "stream",
          "name": "stdout",
          "text": [
            "enter the number76\n",
            "2\n"
          ]
        }
      ]
    },
    {
      "cell_type": "code",
      "source": [
        "#3\n",
        "import random\n",
        "l=[]\n",
        "for i in range(0,100):\n",
        "  l.append(random.randint(100,900))\n",
        "print(l)\n",
        "#i)\n",
        "total_odd=0\n",
        "listofodd=[]\n",
        "for i in range(0,100):\n",
        "  if(l[i]%2!=0):\n",
        "    total_odd=total_odd+1\n",
        "    listofodd.append(l[i])\n",
        "print(\" count of all odd numbers is:\",total_odd)\n",
        "print(\"all odd numbers are:\",listofodd)\n"
      ],
      "metadata": {
        "colab": {
          "base_uri": "https://localhost:8080/"
        },
        "id": "K0aJhlFUnLqp",
        "outputId": "3cd82583-e377-4f6c-8a68-8fe18b040445"
      },
      "execution_count": 7,
      "outputs": [
        {
          "output_type": "stream",
          "name": "stdout",
          "text": [
            "[787, 786, 653, 427, 161, 491, 837, 259, 734, 330, 576, 264, 378, 410, 573, 484, 716, 742, 480, 615, 563, 353, 449, 272, 124, 514, 814, 833, 426, 298, 414, 296, 593, 516, 190, 490, 514, 278, 136, 479, 170, 577, 336, 536, 222, 480, 824, 718, 822, 447, 464, 545, 151, 248, 809, 511, 805, 108, 178, 621, 127, 677, 400, 268, 255, 112, 692, 229, 117, 824, 493, 846, 824, 678, 683, 456, 835, 794, 651, 280, 726, 668, 153, 216, 426, 365, 537, 477, 140, 780, 111, 850, 207, 196, 144, 209, 354, 855, 144, 239]\n",
            " count of all odd numbers is: 41\n",
            "all odd numbers are: [787, 653, 427, 161, 491, 837, 259, 573, 615, 563, 353, 449, 833, 593, 479, 577, 447, 545, 151, 809, 511, 805, 621, 127, 677, 255, 229, 117, 493, 683, 835, 651, 153, 365, 537, 477, 111, 207, 209, 855, 239]\n"
          ]
        }
      ]
    },
    {
      "cell_type": "code",
      "source": [
        "#3.ii)\n",
        "total_even=0\n",
        "listofeven=[]\n",
        "for i in range(0,100):\n",
        "  if(l[i]%2==0):\n",
        "    total_even=total_even+1\n",
        "    listofeven.append(l[i])\n",
        "print(\" count of all even numbers is:\",total_even)\n",
        "print(\"all even numbers are:\",listofeven)\n",
        "\n"
      ],
      "metadata": {
        "colab": {
          "base_uri": "https://localhost:8080/"
        },
        "id": "K8IadV0hpJVC",
        "outputId": "af28010a-ef5d-45a7-99f2-65699b2742f3"
      },
      "execution_count": 8,
      "outputs": [
        {
          "output_type": "stream",
          "name": "stdout",
          "text": [
            " count of all even numbers is: 59\n",
            "all even numbers are: [786, 734, 330, 576, 264, 378, 410, 484, 716, 742, 480, 272, 124, 514, 814, 426, 298, 414, 296, 516, 190, 490, 514, 278, 136, 170, 336, 536, 222, 480, 824, 718, 822, 464, 248, 108, 178, 400, 268, 112, 692, 824, 846, 824, 678, 456, 794, 280, 726, 668, 216, 426, 140, 780, 850, 196, 144, 354, 144]\n"
          ]
        }
      ]
    },
    {
      "cell_type": "code",
      "source": [
        "#3.iii)\n",
        "\n",
        "prime_count=0\n",
        "listofprime=[]\n",
        "for i in range(0,100):\n",
        "  t=0\n",
        "  for j in range(2,i):\n",
        "    if(l[i]%j==0):\n",
        "      t=1\n",
        "  if(t==0):\n",
        "    prime_count=prime_count+1\n",
        "    listofprime.append(l[i])\n",
        "print(\" count of all prime numbers is:\",prime_count)\n",
        "print(\"all primr numbers are:\",listofprime)\n"
      ],
      "metadata": {
        "colab": {
          "base_uri": "https://localhost:8080/"
        },
        "id": "2UD1ZJjRpgQw",
        "outputId": "0583b833-1376-43b7-8fc4-8b68422d4969"
      },
      "execution_count": 9,
      "outputs": [
        {
          "output_type": "stream",
          "name": "stdout",
          "text": [
            " count of all prime numbers is: 20\n",
            "all primr numbers are: [787, 786, 653, 427, 161, 491, 259, 563, 353, 449, 593, 479, 577, 151, 809, 127, 677, 229, 683, 239]\n"
          ]
        }
      ]
    },
    {
      "cell_type": "code",
      "source": [
        "#4.i)\n",
        "A={34,56,78,90}\n",
        "B={78,45,90,23}\n",
        "A.union(B)"
      ],
      "metadata": {
        "colab": {
          "base_uri": "https://localhost:8080/"
        },
        "id": "2poOxuH7uNqd",
        "outputId": "32876007-efb7-409f-a3d4-7e1c0ebf1a6e"
      },
      "execution_count": 4,
      "outputs": [
        {
          "output_type": "execute_result",
          "data": {
            "text/plain": [
              "{23, 34, 45, 56, 78, 90}"
            ]
          },
          "metadata": {},
          "execution_count": 4
        }
      ]
    },
    {
      "cell_type": "code",
      "source": [
        "#4.ii)\n",
        "print(\"scores common to both team:\")\n",
        "A.intersection(B)"
      ],
      "metadata": {
        "colab": {
          "base_uri": "https://localhost:8080/"
        },
        "id": "ZhmB98W9uzeI",
        "outputId": "21957cc4-51fa-4337-de9b-c804f5ff5b07"
      },
      "execution_count": 5,
      "outputs": [
        {
          "output_type": "stream",
          "name": "stdout",
          "text": [
            "scores common to both team:\n"
          ]
        },
        {
          "output_type": "execute_result",
          "data": {
            "text/plain": [
              "{78, 90}"
            ]
          },
          "metadata": {},
          "execution_count": 5
        }
      ]
    },
    {
      "cell_type": "code",
      "source": [
        "#4.iii)\n",
        "print(\"scores exclusive to a and b:\",A.symmetric_difference(B))\n"
      ],
      "metadata": {
        "colab": {
          "base_uri": "https://localhost:8080/"
        },
        "id": "ri6rKhgMu8O1",
        "outputId": "4da8be45-f85c-476e-a00d-f940e5f34d67"
      },
      "execution_count": 6,
      "outputs": [
        {
          "output_type": "stream",
          "name": "stdout",
          "text": [
            "scores exclusive to a and b: {34, 45, 23, 56}\n"
          ]
        }
      ]
    },
    {
      "cell_type": "code",
      "source": [
        "#4.iv)\n",
        "subset_check=A.issubset(B)\n",
        "superset_check=B.issuperset(A)\n",
        "print(\"is a subset of b??\",subset_check)\n",
        "print(\"is b superset of a??\",superset_check)"
      ],
      "metadata": {
        "id": "iyft8FPhvRYU",
        "colab": {
          "base_uri": "https://localhost:8080/"
        },
        "outputId": "b0d9ac7a-562f-4394-d92e-c93665421e9f"
      },
      "execution_count": 11,
      "outputs": [
        {
          "output_type": "stream",
          "name": "stdout",
          "text": [
            "is a subset of b?? False\n",
            "is b superset of a?? False\n"
          ]
        }
      ]
    },
    {
      "cell_type": "code",
      "source": [
        "#4.v)\n",
        "X=int(input(\"enter the number\"))\n",
        "if X in A:\n",
        "  A.remove(X)\n",
        "else:\n",
        "  print(\"not present\")"
      ],
      "metadata": {
        "colab": {
          "base_uri": "https://localhost:8080/"
        },
        "id": "3QqwAYLO2fUo",
        "outputId": "13116181-2547-4c41-ee86-bd93d8ab17a3"
      },
      "execution_count": 14,
      "outputs": [
        {
          "output_type": "stream",
          "name": "stdout",
          "text": [
            "enter the number23\n",
            "not present\n"
          ]
        }
      ]
    },
    {
      "cell_type": "code",
      "source": [
        "#5)\n",
        "sample_dict={\"name\":\"kelly\",\n",
        "             \"age\":25,\n",
        "             \"salary\":8000,\n",
        "             \"city\":\"New york\"\n",
        "             }\n",
        "sample_dict[\"location\"]=sample_dict.pop(\"city\")\n",
        "print(sample_dict)\n"
      ],
      "metadata": {
        "colab": {
          "base_uri": "https://localhost:8080/"
        },
        "id": "6WM76wea3Gn-",
        "outputId": "8115cf0d-f2e7-45fd-f0ea-fde62dfd9afa"
      },
      "execution_count": 21,
      "outputs": [
        {
          "output_type": "stream",
          "name": "stdout",
          "text": [
            "{'name': 'kelly', 'age': 25, 'salary': 8000, 'location': 'New york'}\n"
          ]
        }
      ]
    }
  ]
}