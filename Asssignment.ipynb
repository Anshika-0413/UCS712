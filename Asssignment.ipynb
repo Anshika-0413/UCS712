{
  "nbformat": 4,
  "nbformat_minor": 0,
  "metadata": {
    "colab": {
      "provenance": []
    },
    "kernelspec": {
      "name": "python3",
      "display_name": "Python 3"
    },
    "language_info": {
      "name": "python"
    }
  },
  "cells": [
    {
      "cell_type": "code",
      "execution_count": 1,
      "metadata": {
        "colab": {
          "base_uri": "https://localhost:8080/"
        },
        "id": "x-HSyAWLgZD-",
        "outputId": "9f879730-ff13-4fe4-9873-90a6b46207db"
      },
      "outputs": [
        {
          "output_type": "stream",
          "name": "stdout",
          "text": [
            "Anshika\n",
            "Anshika\n",
            "Anshika\n"
          ]
        }
      ],
      "source": [
        "print(\"Anshika\")\n",
        "print(\"Anshika\")\n",
        "print(\"Anshika\")"
      ]
    },
    {
      "cell_type": "code",
      "source": [
        "a=5\n",
        "b=4\n",
        "c=1\n",
        "d=a+b+c\n",
        "print(\"a+b+c=\",d)"
      ],
      "metadata": {
        "colab": {
          "base_uri": "https://localhost:8080/"
        },
        "id": "bo-c3MmZmu4a",
        "outputId": "f3e5119c-4578-4251-b88f-90ef7ede5c76"
      },
      "execution_count": 3,
      "outputs": [
        {
          "output_type": "stream",
          "name": "stdout",
          "text": [
            "a+b+c= 10\n"
          ]
        }
      ]
    },
    {
      "cell_type": "code",
      "source": [
        "a=\"student\"\n",
        "b=\"anshika\"\n",
        "c=\"ahuja\"\n",
        "d=a+b+c\n",
        "print(d)"
      ],
      "metadata": {
        "colab": {
          "base_uri": "https://localhost:8080/"
        },
        "id": "trnkDJDnnHKc",
        "outputId": "b40c366c-538a-4130-9c7b-574a3553117a"
      },
      "execution_count": 6,
      "outputs": [
        {
          "output_type": "stream",
          "name": "stdout",
          "text": [
            "studentanshikaahuja\n"
          ]
        }
      ]
    },
    {
      "cell_type": "code",
      "source": [
        "for i in range(1,11):\n",
        " print(7,\"*\",i,\"=\",7*i)\n"
      ],
      "metadata": {
        "colab": {
          "base_uri": "https://localhost:8080/"
        },
        "id": "KqmgLHlCoDbO",
        "outputId": "35a73699-2e48-4ea3-a246-85a4338652d1"
      },
      "execution_count": 7,
      "outputs": [
        {
          "output_type": "stream",
          "name": "stdout",
          "text": [
            "7 * 1 = 7\n",
            "7 * 2 = 14\n",
            "7 * 3 = 21\n",
            "7 * 4 = 28\n",
            "7 * 5 = 35\n",
            "7 * 6 = 42\n",
            "7 * 7 = 49\n",
            "7 * 8 = 56\n",
            "7 * 9 = 63\n",
            "7 * 10 = 70\n"
          ]
        }
      ]
    },
    {
      "cell_type": "code",
      "source": [
        "for i in range(1,11):\n",
        " print(9,\"*\",i,\"=\",9*i)"
      ],
      "metadata": {
        "colab": {
          "base_uri": "https://localhost:8080/"
        },
        "id": "G1FdkOMSo5UL",
        "outputId": "46b95c79-c4dd-4ed6-93ab-7a3931cf15d3"
      },
      "execution_count": 8,
      "outputs": [
        {
          "output_type": "stream",
          "name": "stdout",
          "text": [
            "9 * 1 = 9\n",
            "9 * 2 = 18\n",
            "9 * 3 = 27\n",
            "9 * 4 = 36\n",
            "9 * 5 = 45\n",
            "9 * 6 = 54\n",
            "9 * 7 = 63\n",
            "9 * 8 = 72\n",
            "9 * 9 = 81\n",
            "9 * 10 = 90\n"
          ]
        }
      ]
    },
    {
      "cell_type": "code",
      "source": [
        "n=int(input(\"enter number\"))\n",
        "for i in range(1,11):\n",
        " print(n,\"*\",i,\"=\",n*i)"
      ],
      "metadata": {
        "colab": {
          "base_uri": "https://localhost:8080/"
        },
        "id": "WEq-xzcHo8xk",
        "outputId": "93d9ad28-b392-4965-db34-6278920c2b38"
      },
      "execution_count": 12,
      "outputs": [
        {
          "output_type": "stream",
          "name": "stdout",
          "text": [
            "enter number4\n",
            "4 * 1 = 4\n",
            "4 * 2 = 8\n",
            "4 * 3 = 12\n",
            "4 * 4 = 16\n",
            "4 * 5 = 20\n",
            "4 * 6 = 24\n",
            "4 * 7 = 28\n",
            "4 * 8 = 32\n",
            "4 * 9 = 36\n",
            "4 * 10 = 40\n"
          ]
        }
      ]
    },
    {
      "cell_type": "code",
      "source": [
        "n=int(input(\"enter number\"))\n",
        "s=0\n",
        "for i in range(1,n+1):\n",
        "  s=s+i\n",
        "print(\"sum of numbers is:\",s)\n",
        "\n"
      ],
      "metadata": {
        "colab": {
          "base_uri": "https://localhost:8080/"
        },
        "id": "wkE43Bibp4L7",
        "outputId": "8405606c-46ad-44fd-a76d-41b3228f0f82"
      },
      "execution_count": 15,
      "outputs": [
        {
          "output_type": "stream",
          "name": "stdout",
          "text": [
            "enter number10\n",
            "sum of numbers is: 55\n"
          ]
        }
      ]
    },
    {
      "cell_type": "code",
      "source": [
        "n1=int(input(\"enter number1\"))\n",
        "n2=int(input(\"enter number2\"))\n",
        "n3=int(input(\"enter number3\"))\n",
        "if(n1>n2):\n",
        "  if(n1>n3):\n",
        "    print(n1,\"is greatest\")\n",
        "  else:\n",
        "    print(n3,\"is greatest\")\n",
        "else:\n",
        "  if(n2>n3):\n",
        "    print(n2,\"is greatest\")\n",
        "  else:\n",
        "    print(n3,\"is greatest\")\n",
        "\n"
      ],
      "metadata": {
        "colab": {
          "base_uri": "https://localhost:8080/"
        },
        "id": "tQl0u-I5qhUn",
        "outputId": "564a8690-79e5-418a-d41f-a664d5d12021"
      },
      "execution_count": 25,
      "outputs": [
        {
          "output_type": "stream",
          "name": "stdout",
          "text": [
            "enter number14\n",
            "enter number25\n",
            "enter number36\n",
            "6 is greatest\n"
          ]
        }
      ]
    },
    {
      "cell_type": "code",
      "source": [
        "max(4,5,6)"
      ],
      "metadata": {
        "colab": {
          "base_uri": "https://localhost:8080/"
        },
        "id": "j-Slk3B-s6F1",
        "outputId": "4e8a2349-610f-44fb-b33a-cde3fab920f3"
      },
      "execution_count": 26,
      "outputs": [
        {
          "output_type": "execute_result",
          "data": {
            "text/plain": [
              "6"
            ]
          },
          "metadata": {},
          "execution_count": 26
        }
      ]
    },
    {
      "cell_type": "code",
      "source": [
        "\n",
        "s=0\n",
        "n=int(input(\"enter number\"))\n",
        "for i in range(1,n+1):\n",
        "  if(i%7==0++i%9==0):\n",
        "    s=s+i\n",
        "print(s)"
      ],
      "metadata": {
        "colab": {
          "base_uri": "https://localhost:8080/"
        },
        "id": "MvvkT4dbtVCb",
        "outputId": "4cb96d6e-79f0-418b-dea5-74a11cf40ec5"
      },
      "execution_count": 34,
      "outputs": [
        {
          "output_type": "stream",
          "name": "stdout",
          "text": [
            "enter number90\n",
            "63\n"
          ]
        }
      ]
    },
    {
      "cell_type": "code",
      "source": [
        "s=0\n",
        "\n",
        "n=int(input(\"enter number\"))\n",
        "for i in range(1,n+1):\n",
        "  t=0\n",
        "  for j in range(2,i):\n",
        "    if(i%j==0):\n",
        "      t=1\n",
        "      break\n",
        "  if(t==0):\n",
        "    s=s+i\n",
        "\n",
        "print(s)\n"
      ],
      "metadata": {
        "colab": {
          "base_uri": "https://localhost:8080/"
        },
        "id": "EvUOja_HvCSM",
        "outputId": "bbffbc4a-ce1e-49f0-8a0f-d1faa51a913a"
      },
      "execution_count": 62,
      "outputs": [
        {
          "output_type": "stream",
          "name": "stdout",
          "text": [
            "enter number9\n",
            "18\n"
          ]
        }
      ]
    },
    {
      "cell_type": "code",
      "source": [
        "def AddN(n):\n",
        "  s=0\n",
        "  for i in range(1,n+1):\n",
        "    if(i%2!=0):\n",
        "      s=s+i\n",
        "  return s\n",
        "n=int(input(\"enter number\"))\n",
        "print(AddN(n))"
      ],
      "metadata": {
        "colab": {
          "base_uri": "https://localhost:8080/"
        },
        "id": "T97g-AaIz-8-",
        "outputId": "a4d3877f-9ebc-458f-a1bd-cba93830fcf9"
      },
      "execution_count": 48,
      "outputs": [
        {
          "output_type": "stream",
          "name": "stdout",
          "text": [
            "enter number11\n",
            "36\n"
          ]
        }
      ]
    },
    {
      "cell_type": "code",
      "source": [
        "def Add(n):\n",
        "  s=0\n",
        "\n",
        "  for i in range(1,n+1):\n",
        "    t=0\n",
        "    for j in range(2,i):\n",
        "      if(i%j==0):\n",
        "        t=1\n",
        "        break\n",
        "    if(t==0):\n",
        "      s=s+i\n",
        "  return s\n",
        "n=int(input(\"enter number\"))\n",
        "print(Add(n))\n",
        ""
      ],
      "metadata": {
        "colab": {
          "base_uri": "https://localhost:8080/"
        },
        "id": "wo5xar9T07HQ",
        "outputId": "f4e9afc5-528b-4155-84a4-55db8bd4d280"
      },
      "execution_count": 63,
      "outputs": [
        {
          "output_type": "stream",
          "name": "stdout",
          "text": [
            "enter number11\n",
            "29\n"
          ]
        }
      ]
    }
  ]
}