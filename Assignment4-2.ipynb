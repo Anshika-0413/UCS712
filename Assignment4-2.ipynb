{
  "nbformat": 4,
  "nbformat_minor": 0,
  "metadata": {
    "colab": {
      "provenance": [],
      "toc_visible": true
    },
    "kernelspec": {
      "name": "python3",
      "display_name": "Python 3"
    },
    "language_info": {
      "name": "python"
    }
  },
  "cells": [
    {
      "cell_type": "code",
      "execution_count": null,
      "metadata": {
        "colab": {
          "base_uri": "https://localhost:8080/"
        },
        "id": "DQk3tOtmBxOP",
        "outputId": "e2598b5e-5e5e-4997-b473-e2f97291f8df"
      },
      "outputs": [
        {
          "output_type": "stream",
          "name": "stdout",
          "text": [
            "[3 4 5 6 7]\n"
          ]
        }
      ],
      "source": [
        "#q1(a)\n",
        "import numpy as np\n",
        "arr_1d=np.array([1,2,3,4,5])\n",
        "for i in range(len(arr_1d)):\n",
        "  arr_1d[i]=arr_1d[i]+2\n",
        "print(arr_1d)\n",
        "\n",
        "\n"
      ]
    },
    {
      "cell_type": "code",
      "source": [
        "#q1(b)\n",
        "import numpy as np\n",
        "arr_1d=np.array([1,2,3,4,5])\n",
        "for i in range(len(arr_1d)):\n",
        "  arr_1d[i]=arr_1d[i]*3\n",
        "print(arr_1d)"
      ],
      "metadata": {
        "colab": {
          "base_uri": "https://localhost:8080/"
        },
        "id": "ogernIl8W9DB",
        "outputId": "7ed7d080-f162-4dcf-f813-c3bb8316e68f"
      },
      "execution_count": null,
      "outputs": [
        {
          "output_type": "stream",
          "name": "stdout",
          "text": [
            "[ 3  6  9 12 15]\n"
          ]
        }
      ]
    },
    {
      "cell_type": "code",
      "source": [
        "#q1(c)\n",
        "import numpy as np\n",
        "arr_1d=np.array([1,2,3,4,5])\n",
        "for i in range(len(arr_1d)):\n",
        "  arr_1d[i]=arr_1d[i]/2\n",
        "print(arr_1d)"
      ],
      "metadata": {
        "colab": {
          "base_uri": "https://localhost:8080/"
        },
        "id": "ijr8Dgh-Xviq",
        "outputId": "226dabdb-70f1-411f-93a2-b8dfe88efd2f"
      },
      "execution_count": null,
      "outputs": [
        {
          "output_type": "stream",
          "name": "stdout",
          "text": [
            "[0 1 1 2 2]\n"
          ]
        }
      ]
    },
    {
      "cell_type": "code",
      "source": [
        "#q2(a)\n",
        "arr = np.array([1, 2, 3, 6, 4, 5])\n",
        "r_arr=np.flip(arr)\n",
        "print(r_arr)"
      ],
      "metadata": {
        "colab": {
          "base_uri": "https://localhost:8080/"
        },
        "id": "VD25csaWYBA3",
        "outputId": "84524ca9-8904-40eb-d696-e8959f1cf336"
      },
      "execution_count": null,
      "outputs": [
        {
          "output_type": "stream",
          "name": "stdout",
          "text": [
            "[5 4 6 3 2 1]\n"
          ]
        }
      ]
    },
    {
      "cell_type": "code",
      "source": [
        "#q2(b)\n",
        "x = np.array([1,2,3,4,5,1,2,1,1,1])\n",
        "count={}\n",
        "for i in range(len(x)):\n",
        "  if\n",
        "\n"
      ],
      "metadata": {
        "id": "wmzI-z8yg27B"
      },
      "execution_count": null,
      "outputs": []
    },
    {
      "cell_type": "code",
      "source": [
        "#q3\n",
        "import numpy as np\n",
        "arr=np.array([[10, 20, 30], [40, 50, 60], [70, 80, 90]])\n",
        "print(arr[0,1])\n",
        "print(arr[2,0])"
      ],
      "metadata": {
        "colab": {
          "base_uri": "https://localhost:8080/"
        },
        "id": "kWze_n4Mkg9Y",
        "outputId": "08c84e42-eb2c-4d4b-c5bd-09cce4f8aabd"
      },
      "execution_count": null,
      "outputs": [
        {
          "output_type": "stream",
          "name": "stdout",
          "text": [
            "20\n",
            "70\n"
          ]
        }
      ]
    },
    {
      "cell_type": "code",
      "source": [
        "#q4\n",
        "import numpy as np\n",
        "your_name = np.linspace(10, 100, 25)\n",
        "your_name.ndim\n",
        "your_name.shape\n",
        "your_name.size\n",
        "your_name.dtype\n",
        "your_name.nbytes\n",
        "your_name.reshape(25,1)\n",
        "#T attribute doesn’t change 1D arrays because NumPy considers them as neither row nor column vectors."
      ],
      "metadata": {
        "colab": {
          "base_uri": "https://localhost:8080/"
        },
        "id": "F79ETpgmlDGY",
        "outputId": "2f30249f-ba88-42c2-e4b0-872cca830fc9"
      },
      "execution_count": null,
      "outputs": [
        {
          "output_type": "execute_result",
          "data": {
            "text/plain": [
              "array([[ 10.  ],\n",
              "       [ 13.75],\n",
              "       [ 17.5 ],\n",
              "       [ 21.25],\n",
              "       [ 25.  ],\n",
              "       [ 28.75],\n",
              "       [ 32.5 ],\n",
              "       [ 36.25],\n",
              "       [ 40.  ],\n",
              "       [ 43.75],\n",
              "       [ 47.5 ],\n",
              "       [ 51.25],\n",
              "       [ 55.  ],\n",
              "       [ 58.75],\n",
              "       [ 62.5 ],\n",
              "       [ 66.25],\n",
              "       [ 70.  ],\n",
              "       [ 73.75],\n",
              "       [ 77.5 ],\n",
              "       [ 81.25],\n",
              "       [ 85.  ],\n",
              "       [ 88.75],\n",
              "       [ 92.5 ],\n",
              "       [ 96.25],\n",
              "       [100.  ]])"
            ]
          },
          "metadata": {},
          "execution_count": 5
        }
      ]
    },
    {
      "cell_type": "code",
      "source": [
        "#q5\n",
        "import numpy as np\n",
        "ucs420_yourname = np.array([\n",
        "    [10, 20, 30, 40],\n",
        "    [50, 60, 70, 80],\n",
        "    [90, 15, 20, 35]\n",
        "])\n",
        "\n",
        "mean_value = np.mean(ucs420_yourname)\n",
        "median_value = np.median(ucs420_yourname)\n",
        "max_value = np.max(ucs420_yourname)\n",
        "min_value = np.min(ucs420_yourname)\n",
        "unique_elements = np.unique(ucs420_yourname)\n",
        "print(\"Original 2D Array:\\n\", ucs420_yourname)\n",
        "print(\"\\nMean:\", mean_value)\n",
        "print(\"Median:\", median_value)\n",
        "print(\"Max:\", max_value)\n",
        "print(\"Min:\", min_value)\n",
        "print(\"Unique Elements:\", unique_elements)\n",
        "\n",
        "reshaped_ucs420_yourname = ucs420_yourname.reshape(4, 3)\n",
        "print(\"\\nReshaped Array (4x3):\\n\", reshaped_ucs420_yourname)\n",
        "\n",
        "resized_ucs420_yourname =np.resize(ucs420_yourname, (2, 3))\n",
        "print(\"\\nResized Array (2x3):\\n\", resized_ucs420_yourname)"
      ],
      "metadata": {
        "colab": {
          "base_uri": "https://localhost:8080/"
        },
        "id": "9quBQxpIg2dP",
        "outputId": "39a10dad-7ff9-4df1-a5f4-a07c3ef61bd9"
      },
      "execution_count": null,
      "outputs": [
        {
          "output_type": "stream",
          "name": "stdout",
          "text": [
            "Original 2D Array:\n",
            " [[10 20 30 40]\n",
            " [50 60 70 80]\n",
            " [90 15 20 35]]\n",
            "\n",
            "Mean: 43.333333333333336\n",
            "Median: 37.5\n",
            "Max: 90\n",
            "Min: 10\n",
            "Unique Elements: [10 15 20 30 35 40 50 60 70 80 90]\n",
            "\n",
            "Reshaped Array (4x3):\n",
            " [[10 20 30]\n",
            " [40 50 60]\n",
            " [70 80 90]\n",
            " [15 20 35]]\n",
            "\n",
            "Resized Array (2x3):\n",
            " [[10 20 30]\n",
            " [40 50 60]]\n"
          ]
        }
      ]
    }
  ]
}