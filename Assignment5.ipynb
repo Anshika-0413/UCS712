{
  "nbformat": 4,
  "nbformat_minor": 0,
  "metadata": {
    "colab": {
      "provenance": []
    },
    "kernelspec": {
      "name": "python3",
      "display_name": "Python 3"
    },
    "language_info": {
      "name": "python"
    }
  },
  "cells": [
    {
      "cell_type": "code",
      "execution_count": null,
      "metadata": {
        "colab": {
          "base_uri": "https://localhost:8080/"
        },
        "id": "JNSmhE3bjMhK",
        "outputId": "7fb3f4e6-37a1-423d-c7a6-73d74afaffea"
      },
      "outputs": [
        {
          "output_type": "stream",
          "name": "stdout",
          "text": [
            "sum: 45\n",
            "row-wise sum: [[20  9 16]]\n",
            "column-wise sum: [[14]\n",
            " [16]\n",
            " [15]]\n"
          ]
        }
      ],
      "source": [
        "#q1\n",
        "import numpy as np\n",
        "gfg = np.matrix([[4, 1, 9] ,[12, 3, 1] ,[4, 5, 6]])\n",
        "print(\"sum:\",np.sum(gfg))\n",
        "print(\"row-wise sum:\",np.sum(gfg,axis=0))\n",
        "print(\"column-wise sum:\",np.sum(gfg,axis=1))\n"
      ]
    },
    {
      "cell_type": "code",
      "source": [
        "#q2(a)\n",
        "import numpy as np\n",
        "array = np.array([10, 52, 62, 16, 16, 54, 453])\n",
        "sorted_array=np.sort(array)\n",
        "sorted_indices=np.argsort(array)\n",
        "smallest_elements=sorted_array[:4]\n",
        "largest_elements=sorted_array[-5:]\n",
        "print(\"sorted array:\",sorted_array)\n",
        "print(\"indices of sorted array:\",sorted_indices)\n",
        "print(\"smallest elements:\",smallest_elements)\n",
        "print(\"largest elements:\",largest_elements)\n"
      ],
      "metadata": {
        "colab": {
          "base_uri": "https://localhost:8080/"
        },
        "id": "Cu-tCXg_l_p-",
        "outputId": "321b336e-ff2c-49e5-b69e-1862e0b81475"
      },
      "execution_count": null,
      "outputs": [
        {
          "output_type": "stream",
          "name": "stdout",
          "text": [
            "sorted array: [ 10  16  16  52  54  62 453]\n",
            "indices of sorted array: [0 3 4 1 5 2 6]\n",
            "smallest elements: [10 16 16 52]\n",
            "largest elements: [ 16  52  54  62 453]\n",
            "(array([], dtype=int64),)\n"
          ]
        },
        {
          "output_type": "stream",
          "name": "stderr",
          "text": [
            "<ipython-input-22-ac2d2a972ea2>:12: DeprecationWarning: Calling nonzero on 0d arrays is deprecated, as it behaves surprisingly. Use `atleast_1d(cond).nonzero()` if the old behavior was intended. If the context of this warning is of the form `arr[nonzero(cond)]`, just use `arr[cond]`.\n",
            "  print(np.where(sorted_array[i]==10))\n"
          ]
        }
      ]
    },
    {
      "cell_type": "code",
      "source": [
        "#q2(b)\n",
        "import numpy as np\n",
        "\n",
        "array = np.array([1.0, 1.2, 2.2, 2.0, 3.0, 2.0])\n",
        "integer_elements = array[array == array.astype(int)]\n",
        "float_elements = array[array != array.astype(int)]\n",
        "\n",
        "print(\"Integer elements:\", integer_elements)\n",
        "print(\"Float elements:\", float_elements)\n"
      ],
      "metadata": {
        "id": "s5_6Jy-8n8Pb",
        "colab": {
          "base_uri": "https://localhost:8080/"
        },
        "outputId": "b44500e8-0476-4535-a673-412a63af7066"
      },
      "execution_count": 1,
      "outputs": [
        {
          "output_type": "stream",
          "name": "stdout",
          "text": [
            "Integer elements: [1. 2. 3. 2.]\n",
            "Float elements: [1.2 2.2]\n"
          ]
        }
      ]
    },
    {
      "cell_type": "code",
      "source": [
        "#q3(a)\n",
        "import numpy as np\n",
        "initials = \"AB\"\n",
        "X = sum(ord(char) for char in initials)\n",
        "sales = np.array([X, X+50, X+100, X+150, X+200])\n",
        "print(\"Sales data:\", sales)\n"
      ],
      "metadata": {
        "colab": {
          "base_uri": "https://localhost:8080/"
        },
        "id": "gnDg50LMaXmY",
        "outputId": "f0c80e17-9c1f-4c4e-cc37-2a4f5ad016ff"
      },
      "execution_count": 2,
      "outputs": [
        {
          "output_type": "stream",
          "name": "stdout",
          "text": [
            "Sales data: [131 181 231 281 331]\n"
          ]
        }
      ]
    },
    {
      "cell_type": "code",
      "source": [
        "#q3(b)\n",
        "tax_rate = ((X % 5) + 5) / 100\n",
        "print(\"Tax rate:\", tax_rate)\n",
        "tax_amount = sales * tax_rate\n",
        "print(\"Tax amount for each sale:\", tax_amount)\n"
      ],
      "metadata": {
        "colab": {
          "base_uri": "https://localhost:8080/"
        },
        "id": "RuFMYdSHbN13",
        "outputId": "9bd4b29a-1845-4ce2-fac4-07afafa259e9"
      },
      "execution_count": 3,
      "outputs": [
        {
          "output_type": "stream",
          "name": "stdout",
          "text": [
            "Tax rate: 0.06\n",
            "Tax amount for each sale: [ 7.86 10.86 13.86 16.86 19.86]\n"
          ]
        }
      ]
    },
    {
      "cell_type": "code",
      "source": [
        "#q3(c)\n",
        "discounted_sales = np.where(sales < X+100, sales * 0.95, sales * 0.90)\n",
        "print(\"Discounted Sales:\", discounted_sales)\n"
      ],
      "metadata": {
        "colab": {
          "base_uri": "https://localhost:8080/"
        },
        "id": "y9aeKxxvbSTS",
        "outputId": "6ebc83ff-c89f-4b81-fa3e-f5bbaa6cda22"
      },
      "execution_count": 4,
      "outputs": [
        {
          "output_type": "stream",
          "name": "stdout",
          "text": [
            "Discounted Sales: [124.45 171.95 207.9  252.9  297.9 ]\n"
          ]
        }
      ]
    },
    {
      "cell_type": "code",
      "source": [
        "#q3(d)\n",
        "weeks = 3\n",
        "weekly_sales = np.tile(discounted_sales, (weeks, 1))\n",
        "print(\"Weekly Sales Matrix:\\n\", weekly_sales)\n",
        "\n",
        "week_multipliers = (1 + np.arange(weeks)[:, None] * 0.02)\n",
        "adjusted_weekly_sales = weekly_sales * week_multipliers\n",
        "print(\"Adjusted Weekly Sales:\\n\", adjusted_weekly_sales)\n"
      ],
      "metadata": {
        "colab": {
          "base_uri": "https://localhost:8080/"
        },
        "id": "NfpF18uRbb0c",
        "outputId": "b4410fb8-058e-49d1-9abc-60556117ef5d"
      },
      "execution_count": 5,
      "outputs": [
        {
          "output_type": "stream",
          "name": "stdout",
          "text": [
            "Weekly Sales Matrix:\n",
            " [[124.45 171.95 207.9  252.9  297.9 ]\n",
            " [124.45 171.95 207.9  252.9  297.9 ]\n",
            " [124.45 171.95 207.9  252.9  297.9 ]]\n",
            "Adjusted Weekly Sales:\n",
            " [[124.45  171.95  207.9   252.9   297.9  ]\n",
            " [126.939 175.389 212.058 257.958 303.858]\n",
            " [129.428 178.828 216.216 263.016 309.816]]\n"
          ]
        }
      ]
    },
    {
      "cell_type": "code",
      "source": [
        "import numpy as np\n",
        "import matplotlib.pyplot as plt\n",
        "x = np.linspace(-10, 10, 100)\n",
        "\n",
        "\n",
        "y_square = x**2\n",
        "y_sin = np.sin(x)\n",
        "y_exp = np.exp(x)\n",
        "y_log = np.log(np.abs(x) + 1)\n",
        "\n",
        "\n",
        "plt.figure(figsize=(8, 5))\n",
        "\n",
        "plt.plot(x, y_square, label=r'$y = x^2$', color='b')\n",
        "plt.plot(x, y_sin, label=r'$y = \\sin(x)$', color='r')\n",
        "plt.plot(x, y_exp, label=r'$y = e^x$', color='g')\n",
        "plt.plot(x, y_log, label=r'$y = \\log(|x|+1)$', color='m')\n",
        "\n",
        "\n",
        "plt.title(\"Plots of Different Mathematical Functions\", fontsize=14)\n",
        "plt.xlabel(\"X values\", fontsize=12)\n",
        "plt.ylabel(\"Y values\", fontsize=12)\n",
        "plt.legend()\n",
        "plt.grid(True)\n",
        "\n",
        "\n",
        "plt.show()\n"
      ],
      "metadata": {
        "colab": {
          "base_uri": "https://localhost:8080/",
          "height": 513
        },
        "id": "dhe9iNxrdyk7",
        "outputId": "b062b136-60ae-4b58-a226-52e67ac3af5a"
      },
      "execution_count": 8,
      "outputs": [
        {
          "output_type": "display_data",
          "data": {
            "text/plain": [
              "<Figure size 800x500 with 1 Axes>"
            ],
            "image/png": "[encoded data removed]"
          },
          "metadata": {}
        }
      ]
    }
  ]
}